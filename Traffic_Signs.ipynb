{
 "cells": [
  {
   "cell_type": "markdown",
   "metadata": {},
   "source": [
    "# 1) Image Preprocessing"
   ]
  },
  {
   "cell_type": "code",
   "execution_count": 1,
   "metadata": {},
   "outputs": [],
   "source": [
    "#final variables containing number_of_classes & size of resized_image\n",
    "N_CLASSES = 43\n",
    "RESIZED_IMAGE = (32, 32)"
   ]
  },
  {
   "cell_type": "code",
   "execution_count": 2,
   "metadata": {},
   "outputs": [],
   "source": [
    "# function that:\n",
    "#   reads all images given in a path\n",
    "#   resize them to a predefined shape\n",
    "#   convert then to GRAYSCALE\n",
    "#   one-hot encode the label    "
   ]
  },
  {
   "cell_type": "code",
   "execution_count": 3,
   "metadata": {},
   "outputs": [
    {
     "name": "stdout",
     "output_type": "stream",
     "text": [
      "(39209, 32, 32, 1)\n",
      "(39209, 43)\n"
     ]
    }
   ],
   "source": [
    "import matplotlib.pyplot as plt\n",
    "import glob\n",
    "from skimage.color import rgb2lab\n",
    "from skimage.transform import resize\n",
    "from collections import namedtuple\n",
    "import numpy as np\n",
    "\n",
    "np.random.seed(101)\n",
    "\n",
    "%matplotlib inline\n",
    "\n",
    "Dataset = namedtuple('Dataset', ['X', 'y'])\n",
    "def to_tf_format(imgs):\n",
    "    return np.stack([img[:, :, np.newaxis] for img in imgs], axis=0).astype(np.float32)\n",
    "\n",
    "def read_dataset_ppm(rootpath, n_labels, resize_to):\n",
    "    images = []\n",
    "    labels = []\n",
    "    for c in range(n_labels):\n",
    "        full_path = rootpath + '/' + format(c, '05d') + '/'\n",
    "        for img_name in glob.glob(full_path + \"*.ppm\"):\n",
    "            img = plt.imread(img_name).astype(np.float32)\n",
    "            img = rgb2lab(img / 255.0)[:, :, 0]\n",
    "            if resize_to:\n",
    "                img = resize(img, resize_to, mode='reflect')\n",
    "            label = np.zeros((n_labels, ), dtype=np.float32)\n",
    "            label[c] = 1.0\n",
    "            images.append(img.astype(np.float32))\n",
    "            labels.append(label)\n",
    "    return Dataset(X = to_tf_format(images).astype(np.float32),\n",
    "                  y = np.matrix(labels).astype(np.float32))\n",
    "\n",
    "dataset = read_dataset_ppm('GTSRB/FInal_Training/Images', N_CLASSES, RESIZED_IMAGE)\n",
    "print(dataset.X.shape)\n",
    "print(dataset.y.shape)"
   ]
  },
  {
   "cell_type": "raw",
   "metadata": {},
   "source": [
    "observation matrix **X** has 4 dimensions: \n",
    "39209   -> number of observations; \n",
    "32x32x1 -> 32 pixel by 32 pixel by 1-dimesion {GRAYSCALE} #_tf_format\n",
    "\n",
    "label matrix **y** :\n",
    "39209 -> rows index the observation\n",
    "43    -> columns are the one-hot encoding of the label"
   ]
  },
  {
   "cell_type": "code",
   "execution_count": 6,
   "metadata": {},
   "outputs": [],
   "source": [
    "# Skimage Module : reading, transforming, & resizing Image\n",
    "# Convert original color space(RGB) to lab, then retaining only the LUMINANCE component\n",
    "# in-case of conversion to YUV, only \"Y\" should be retained"
   ]
  },
  {
   "cell_type": "code",
   "execution_count": 5,
   "metadata": {},
   "outputs": [
    {
     "name": "stdout",
     "output_type": "stream",
     "text": [
      "[[1. 0. 0. 0. 0. 0. 0. 0. 0. 0. 0. 0. 0. 0. 0. 0. 0. 0. 0. 0. 0. 0. 0. 0.\n",
      "  0. 0. 0. 0. 0. 0. 0. 0. 0. 0. 0. 0. 0. 0. 0. 0. 0. 0. 0.]]\n"
     ]
    },
    {
     "data": {
      "image/png": "[encoded data removed]",
      "text/plain": [
       "<Figure size 432x288 with 1 Axes>"
      ]
     },
     "metadata": {},
     "output_type": "display_data"
    }
   ],
   "source": [
    "#printing feature vector of the first sample, together with its label\n",
    "\n",
    "#sample\n",
    "plt.imshow(dataset.X[0, :, :, :].reshape(RESIZED_IMAGE))\n",
    "#label\n",
    "print(dataset.y[0, :])"
   ]
  },
  {
   "cell_type": "code",
   "execution_count": 7,
   "metadata": {},
   "outputs": [
    {
     "name": "stdout",
     "output_type": "stream",
     "text": [
      "[[0. 0. 0. 0. 0. 0. 0. 0. 0. 0. 0. 0. 0. 0. 0. 0. 0. 0. 0. 0. 0. 0. 0. 0.\n",
      "  0. 0. 0. 0. 0. 0. 0. 0. 0. 0. 0. 0. 0. 0. 0. 0. 0. 0. 1.]]\n"
     ]
    },
    {
     "data": {
      "image/png": "[encoded data removed]",
      "text/plain": [
       "<Figure size 432x288 with 1 Axes>"
      ]
     },
     "metadata": {},
     "output_type": "display_data"
    }
   ],
   "source": [
    "#printing feature vector of the last sample, together with its label\n",
    "\n",
    "#sample\n",
    "plt.imshow(dataset.X[-1, :, :, :].reshape(RESIZED_IMAGE))\n",
    "#label\n",
    "print(dataset.y[-1, :])"
   ]
  },
  {
   "cell_type": "markdown",
   "metadata": {},
   "source": [
    "### train/test split"
   ]
  },
  {
   "cell_type": "code",
   "execution_count": 8,
   "metadata": {},
   "outputs": [
    {
     "name": "stdout",
     "output_type": "stream",
     "text": [
      "(29406, 32, 32, 1)\n",
      "(29406, 43)\n",
      "(9803, 32, 32, 1)\n",
      "(9803, 43)\n"
     ]
    }
   ],
   "source": [
    "from sklearn.model_selection import train_test_split\n",
    "# 75% of the samples in the dataset -> TRAINING\n",
    "# 25% of the remaining samples -> TESTING\n",
    "idx_train, idx_test = train_test_split(range(dataset.X.shape[0]), test_size=0.25, random_state=101)\n",
    "X_train = dataset.X[idx_train, :, :, :]\n",
    "X_test = dataset.X[idx_test, :, :, :]\n",
    "y_train = dataset.y[idx_train, :]\n",
    "y_test = dataset.y[idx_test, :]\n",
    "print(X_train.shape)\n",
    "print(y_train.shape)\n",
    "print(X_test.shape)\n",
    "print(y_test.shape)"
   ]
  },
  {
   "cell_type": "markdown",
   "metadata": {},
   "source": [
    "# 2) Train Model & make Predictions"
   ]
  },
  {
   "cell_type": "code",
   "execution_count": 9,
   "metadata": {},
   "outputs": [],
   "source": [
    "# function to create mini-batches of training data\n",
    "def minibatcher(X, y, batch_size, shuffle):\n",
    "    assert X.shape[0] == y.shape[0]\n",
    "    n_samples = X.shape[0]\n",
    "    if shuffle:\n",
    "        idx = np.random.permutation(n_samples)\n",
    "    else:\n",
    "        idx = list(range(n_samples))\n",
    "    for k in range(int(np.ceil(n_samples/batch_size))):\n",
    "        from_idx = k*batch_size\n",
    "        to_idx = (k+1)*batch_size\n",
    "        yield X[idx[from_idx:to_idx], :, :,], y[idx[from_idx:to_idx], :]"
   ]
  },
  {
   "cell_type": "code",
   "execution_count": 10,
   "metadata": {},
   "outputs": [
    {
     "name": "stdout",
     "output_type": "stream",
     "text": [
      "(10000, 32, 32, 1) (10000, 43)\n",
      "(10000, 32, 32, 1) (10000, 43)\n",
      "(9406, 32, 32, 1) (9406, 43)\n"
     ]
    }
   ],
   "source": [
    "# printing shape of minibatch, while imposing batch_size=10000\n",
    "for mb in minibatcher(X_train, y_train, 10000, True):\n",
    "    print(mb[0].shape, mb[1].shape)"
   ]
  },
  {
   "cell_type": "markdown",
   "metadata": {},
   "source": [
    "### Building the Model"
   ]
  },
  {
   "cell_type": "markdown",
   "metadata": {},
   "source": [
    "* 1) Creating fully connected layer with variable number of units, without activation\n",
    "* 2) Xavier initialization for coefficients(weights);\n",
    "* 3) o-initialization for biases to have the layer centered & scaled properly\n",
    "* 4) output -> multiplication of input tensor, plus the bias"
   ]
  },
  {
   "cell_type": "code",
   "execution_count": 11,
   "metadata": {},
   "outputs": [
    {
     "name": "stderr",
     "output_type": "stream",
     "text": [
      "C:\\Program Files (x86)\\Microsoft Visual Studio\\Shared\\Anaconda3_64\\lib\\site-packages\\h5py\\__init__.py:36: FutureWarning: Conversion of the second argument of issubdtype from `float` to `np.floating` is deprecated. In future, it will be treated as `np.float64 == np.dtype(float).type`.\n",
      "  from ._conv import register_converters as _register_converters\n"
     ]
    }
   ],
   "source": [
    "import tensorflow as tf\n",
    "\n",
    "def fc_no_activation_layer(in_tensors, n_units):\n",
    "    w = tf.get_variable('fc_W', \n",
    "                        [in_tensors.get_shape()[1], n_units],\n",
    "                        tf.float32,\n",
    "                        tf.contrib.layers.xavier_initializer())\n",
    "    b = tf.get_variable('fc_B',\n",
    "                        [n_units, ],\n",
    "                        tf.float32,\n",
    "                        tf.constant_initializer(0.0))\n",
    "    return tf.matmul(in_tensors, w) + b"
   ]
  },
  {
   "cell_type": "markdown",
   "metadata": {},
   "source": [
    "1) Creating fully connected layer with activation; using leaky ReLU"
   ]
  },
  {
   "cell_type": "code",
   "execution_count": 12,
   "metadata": {},
   "outputs": [],
   "source": [
    "def fc_layer(in_tensors, n_units):\n",
    "    return tf.nn.leaky_relu(fc_no_activation_layer(in_tensors, n_units))"
   ]
  },
  {
   "cell_type": "markdown",
   "metadata": {},
   "source": [
    "1) Creating convolutional layer, with arguments : imput data, kernel size, number of filters(or units)"
   ]
  },
  {
   "cell_type": "code",
   "execution_count": 13,
   "metadata": {},
   "outputs": [],
   "source": [
    "def conv_layer(in_tensors, kernel_size, n_units):\n",
    "    w = tf.get_variable('conv_W',\n",
    "                       [kernel_size, kernel_size, in_tensors.get_shape()[3], n_units],\n",
    "                       tf.float32,\n",
    "                       tf.contrib.layers.xavier_initializer())\n",
    "    b = tf.get_variable('conv_B',\n",
    "                       [n_units, ],\n",
    "                       tf.float32,\n",
    "                       tf.constant_initializer(0.0))\n",
    "    return tf.nn.leaky_relu(tf.nn.conv2d(in_tensors, w, [1,1,1,1], 'SAME') + b)"
   ]
  },
  {
   "cell_type": "markdown",
   "metadata": {},
   "source": [
    "1) Creating maxpool_layer\n",
    "2) size of window & strides are both squares(Quadrates)"
   ]
  },
  {
   "cell_type": "code",
   "execution_count": 14,
   "metadata": {},
   "outputs": [],
   "source": [
    "def maxpool_layer(in_tensors, sampling):\n",
    "    return tf.nn.max_pool(in_tensors, [1, sampling, sampling, 1],\n",
    "                         [1, sampling, sampling, 1], 'SAME')"
   ]
  },
  {
   "cell_type": "markdown",
   "metadata": {},
   "source": [
    "* 1) Defining DROPOUT, for regularizing the network\n",
    "* 2) DROPOUT is used only when training the network, not when predicting"
   ]
  },
  {
   "cell_type": "code",
   "execution_count": 15,
   "metadata": {},
   "outputs": [],
   "source": [
    "def dropout(in_tensors, keep_proba, is_training):\n",
    "    return tf.cond(is_training, lambda: tf.nn.dropout(in_tensors, keep_proba),\n",
    "                  lambda: in_tensors)"
   ]
  },
  {
   "cell_type": "markdown",
   "metadata": {},
   "source": [
    "Creating a model composed of following layers:\n",
    "* 1) 2D convolution, 5X5, 32 filters\n",
    "* 2) 2D convolution, 5X5, 64 filters\n",
    "* 3) Flattenizer\n",
    "* 4) Fully connected layer, 1024 units\n",
    "* 5) Dropout 40%\n",
    "* 6) Fully Connected layer, no activation\n",
    "* 7) Softmax output"
   ]
  },
  {
   "cell_type": "code",
   "execution_count": 16,
   "metadata": {},
   "outputs": [],
   "source": [
    "def  model(in_tensors, is_training):\n",
    "    #First layer : 5x5 2d-conv, 32 filters, 2x maxpool, 20% dropout\n",
    "    with tf.variable_scope('l1'):\n",
    "        l1 = maxpool_layer(conv_layer(in_tensors, 5, 32), 2)\n",
    "        l1_out = dropout(l1, 0.8, is_training)\n",
    "    #Second layer : 5x5 2d-conv, 64 filters, 2x maxpool, 20% dropout\n",
    "    with tf.variable_scope('l2'):\n",
    "        l2 = maxpool_layer(conv_layer(l1_out, 5, 64), 2)\n",
    "        l2_out = dropout(l2, 0.8, is_training)\n",
    "    \n",
    "    with tf.variable_scope('flatten'):\n",
    "        l2_out_flat = tf.layers.flatten(l2_out)\n",
    "  \n",
    "    #Fully collected layer, 1024 neurons, 40% dropout \n",
    "    with tf.variable_scope('l3'):\n",
    "        l3 = fc_layer(l2_out_flat, 1024)\n",
    "        l3_out = dropout(l3, 0.6, is_training)\n",
    "  \n",
    "    # Output\n",
    "    with tf.variable_scope('out'):\n",
    "        out_tensors = fc_no_activation_layer(l3_out, N_CLASSES)\n",
    "  \n",
    "    return out_tensors"
   ]
  },
  {
   "cell_type": "code",
   "execution_count": 19,
   "metadata": {},
   "outputs": [
    {
     "name": "stdout",
     "output_type": "stream",
     "text": [
      "Epoch= 0\n",
      " train_loss_score= 4.391157\n",
      "Epoch= 1\n",
      " train_loss_score= 0.7811591\n",
      "Epoch= 2\n",
      " train_loss_score= 0.37790203\n",
      "Epoch= 3\n",
      " train_loss_score= 0.23970334\n",
      "Epoch= 4\n",
      " train_loss_score= 0.16011767\n",
      "Epoch= 5\n",
      " train_loss_score= 0.13303156\n",
      "Epoch= 6\n",
      " train_loss_score= 0.0970355\n",
      "Epoch= 7\n",
      " train_loss_score= 0.08074143\n",
      "Epoch= 8\n",
      " train_loss_score= 0.0687234\n",
      "Epoch= 9\n",
      " train_loss_score= 0.06179753\n",
      "TEST SET PERFORMANCE\n",
      " test_loss_score= 0.06605987\n",
      "             precision    recall  f1-score   support\n",
      "\n",
      "          0       1.00      0.88      0.94        67\n",
      "          1       0.95      0.99      0.97       539\n",
      "          2       0.98      0.99      0.99       558\n",
      "          3       1.00      0.96      0.98       364\n",
      "          4       0.99      0.99      0.99       487\n",
      "          5       0.98      0.97      0.98       479\n",
      "          6       1.00      1.00      1.00       105\n",
      "          7       0.99      0.97      0.98       364\n",
      "          8       0.96      0.99      0.98       340\n",
      "          9       0.98      1.00      0.99       384\n",
      "         10       1.00      0.98      0.99       513\n",
      "         11       0.99      0.97      0.98       334\n",
      "         12       0.99      0.99      0.99       545\n",
      "         13       0.99      0.99      0.99       537\n",
      "         14       0.98      1.00      0.99       213\n",
      "         15       0.98      0.99      0.99       164\n",
      "         16       1.00      0.99      0.99        98\n",
      "         17       1.00      1.00      1.00       281\n",
      "         18       0.94      1.00      0.97       286\n",
      "         19       1.00      1.00      1.00        56\n",
      "         20       0.97      0.91      0.94        78\n",
      "         21       0.92      1.00      0.96        95\n",
      "         22       1.00      0.96      0.98        97\n",
      "         23       0.97      0.99      0.98       123\n",
      "         24       1.00      0.99      0.99        77\n",
      "         25       0.99      0.99      0.99       401\n",
      "         26       0.98      0.95      0.96       135\n",
      "         27       0.97      1.00      0.98        60\n",
      "         28       1.00      0.98      0.99       123\n",
      "         29       0.96      0.94      0.95        69\n",
      "         30       0.99      0.96      0.97       115\n",
      "         31       0.99      0.99      0.99       178\n",
      "         32       0.96      1.00      0.98        55\n",
      "         33       1.00      1.00      1.00       177\n",
      "         34       0.99      0.99      0.99       103\n",
      "         35       1.00      1.00      1.00       277\n",
      "         36       1.00      1.00      1.00        78\n",
      "         37       1.00      0.98      0.99        63\n",
      "         38       1.00      0.99      0.99       540\n",
      "         39       0.98      0.98      0.98        60\n",
      "         40       0.95      0.99      0.97        85\n",
      "         41       1.00      0.98      0.99        47\n",
      "         42       0.98      1.00      0.99        53\n",
      "\n",
      "avg / total       0.99      0.99      0.99      9803\n",
      "\n"
     ]
    },
    {
     "data": {
      "image/png": "[encoded data removed]",
      "text/plain": [
       "<Figure size 432x288 with 2 Axes>"
      ]
     },
     "metadata": {},
     "output_type": "display_data"
    },
    {
     "data": {
      "image/png": "[encoded data removed]",
      "text/plain": [
       "<Figure size 432x288 with 2 Axes>"
      ]
     },
     "metadata": {},
     "output_type": "display_data"
    }
   ],
   "source": [
    "from sklearn.metrics import classification_report, confusion_matrix\n",
    "\n",
    "\n",
    "def train_model(X_train, y_train, X_test, y_test, learning_rate, max_epochs, batch_size):\n",
    "    in_X_tensors_batch = tf.placeholder(tf.float32, shape = (None, RESIZED_IMAGE[0], RESIZED_IMAGE[1], 1))\n",
    "    in_y_tensors_batch = tf.placeholder(tf.float32, shape = (None, N_CLASSES))\n",
    "    is_training = tf.placeholder(tf.bool)\n",
    "\n",
    "    logits = model(in_X_tensors_batch, is_training)\n",
    "    out_y_pred = tf.nn.softmax(logits)\n",
    "    loss_score = tf.nn.softmax_cross_entropy_with_logits(logits=logits, labels=in_y_tensors_batch)\n",
    "    loss = tf.reduce_mean(loss_score)\n",
    "    optimizer = tf.train.AdamOptimizer(learning_rate).minimize(loss)\n",
    "\n",
    "    with tf.Session() as session:\n",
    "        session.run(tf.global_variables_initializer())\n",
    "\n",
    "        for epoch in range(max_epochs):\n",
    "            print(\"Epoch=\", epoch)\n",
    "            tf_score = []\n",
    "\n",
    "            for mb in minibatcher(X_train, y_train, batch_size, shuffle = True):\n",
    "                tf_output = session.run([optimizer, loss], \n",
    "                                        feed_dict = {in_X_tensors_batch : mb[0], \n",
    "                                                     in_y_tensors_batch : mb[1], is_training : True})\n",
    "\n",
    "                tf_score.append(tf_output[1])\n",
    "            print(\" train_loss_score=\", np.mean(tf_score))\n",
    "        \n",
    "        # after the training is done, time to test it on the test set\n",
    "        print(\"TEST SET PERFORMANCE\")\n",
    "        y_test_pred, test_loss  = session.run([out_y_pred, loss], \n",
    "                                              feed_dict = {in_X_tensors_batch : X_test, \n",
    "                                                           in_y_tensors_batch : y_test,\n",
    "                                                           is_training : False})\n",
    "\n",
    "        print(\" test_loss_score=\", test_loss)\n",
    "        y_test_pred_classified = np.argmax(y_test_pred, axis=1).astype(np.int32)\n",
    "        y_test_true_classified = np.argmax(y_test, axis=1).astype(np.int32)\n",
    "        print(classification_report(y_test_true_classified, y_test_pred_classified))\n",
    "\n",
    "        cm = confusion_matrix(y_test_true_classified, y_test_pred_classified)\n",
    "\n",
    "        plt.imshow(cm, interpolation='nearest', cmap=plt.cm.Blues)\n",
    "        plt.colorbar()\n",
    "        plt.tight_layout()\n",
    "        plt.show()\n",
    "\n",
    "        # And the log2 version, to enphasize the misclassifications\n",
    "        plt.imshow(np.log2(cm + 1), interpolation='nearest', cmap=plt.get_cmap(\"tab20\"))\n",
    "        plt.colorbar()\n",
    "        plt.tight_layout()\n",
    "        plt.show()\n",
    "\n",
    "\n",
    "tf.reset_default_graph()\n",
    "train_model(X_train, y_train, X_test, y_test, 0.001, 10, 256)\n"
   ]
  }
 ],
 "metadata": {
  "kernelspec": {
   "display_name": "Python 3",
   "language": "python",
   "name": "python3"
  },
  "language_info": {
   "codemirror_mode": {
    "name": "ipython",
    "version": 3
   },
   "file_extension": ".py",
   "mimetype": "text/x-python",
   "name": "python",
   "nbconvert_exporter": "python",
   "pygments_lexer": "ipython3",
   "version": "3.6.5"
  }
 },
 "nbformat": 4,
 "nbformat_minor": 2
}
